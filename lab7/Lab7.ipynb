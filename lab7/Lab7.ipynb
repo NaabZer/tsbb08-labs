{
 "cells": [
  {
   "cell_type": "code",
   "execution_count": 1,
   "metadata": {},
   "outputs": [],
   "source": [
    "import numpy as np\n",
    "import PIL.Image as Im\n",
    "import matplotlib.pyplot as plt\n",
    "import math\n",
    "import scipy as sp\n",
    "import scipy.signal"
   ]
  },
  {
   "cell_type": "code",
   "execution_count": null,
   "metadata": {},
   "outputs": [],
   "source": [
    "import matlab.engine\n",
    "eng = matlab.engine.start_matlab()"
   ]
  },
  {
   "cell_type": "markdown",
   "metadata": {},
   "source": [
    "# 1 Wiener filtering"
   ]
  },
  {
   "cell_type": "markdown",
   "metadata": {},
   "source": [
    "### Question 1\n",
    "$\n",
    "r_n(x,0) = \\sigma_n^2 * \\delta(x,0) = /\\text{formula collection, } \\delta(x,0) = 1 / = \\sigma_n^2 \\implies\n",
    "S_N(u,v) = \\sigma_n^2\n",
    "$\n",
    "\n",
    "\n",
    "$\n",
    "r_f(x,0) = \\sigma_f^2 \\cdot e^{\\ln(\\rho^{|x|})} = \\sigma_f^2 \\cdot e^{|x| \\cdot \\ln(\\rho)} = \\sigma_f^2 \\cdot e^{-(-\\ln\\rho \\cdot |x|)} = /\\text{formula collection}/ = \\frac{2(-\\ln\\rho)}{(-\\ln\\rho)^2 + (2\\pi u)^2} \\implies \n",
    "S_F(u,v) = \\sigma_f^2 \\cdot \\frac{2(-ln\\rho)}{(-ln\\rho)^2 + (2\\pi u)^2} \n",
    "$\n",
    "\n",
    "Therefore:\n",
    "\\begin{align*}\n",
    "S_F(u,v) &= \\sigma_f^2 \\cdot \\frac{2(-ln\\rho)}{(-ln\\rho)^2 + (2\\pi u)^2} \\\\\n",
    "S_N(u,v) &= \\sigma_n^2\n",
    "\\end{align*}"
   ]
  },
  {
   "cell_type": "markdown",
   "metadata": {},
   "source": [
    "### Question 2\n",
    "A inverse filter is defined as $\\frac{1}{H(u,v)}$.\n",
    "\n",
    "We have \n",
    "$\n",
    "W(u,v)=\\frac{H^{*}(u,v)}{|H(u,v)|^{2}+r\\cdot S_{N}(u,v)/S_{F}(u,v)} = /r=0/ =\n",
    "\\frac{H^{*}(u,v)}{|H(u,v)|^{2}} =\n",
    "\\frac{H^{*}(u,v)}{H(u,v)\\cdot H^{*}(u,v)} =\n",
    "\\frac{1}{H(u,v)}\n",
    "$"
   ]
  },
  {
   "cell_type": "code",
   "execution_count": null,
   "metadata": {},
   "outputs": [],
   "source": [
    "def mat_d(x):\n",
    "    return matlab.double(x.tolist())\n",
    "\n",
    "def wiener(f, h0, snr, rho, r):\n",
    "    g = np.array(eng.circconv(matlab.double(f.tolist()), matlab.double(h0.tolist())))\n",
    "    h = np.array(eng.addnoise(matlab.double(g.tolist()), matlab.double([snr])))\n",
    "    return h, np.array(eng.wiener(mat_d(h), mat_d(h0), matlab.double([snr]), matlab.double([rho]), matlab.double([r])))\n"
   ]
  },
  {
   "cell_type": "code",
   "execution_count": null,
   "metadata": {},
   "outputs": [],
   "source": [
    "\n",
    "\n",
    "f = np.array(Im.open(\"lab7files/skylt.tif\"))\n",
    "h0 = np.ones((5,5)) / 25.0\n",
    "snr = 20\n",
    "rho = 0.8\n",
    "r = 1.0\n",
    "\n",
    "\n",
    "h, fhat = wiener(f, h0, snr, rho, r)"
   ]
  },
  {
   "cell_type": "code",
   "execution_count": null,
   "metadata": {},
   "outputs": [],
   "source": [
    "plt.figure(figsize=(16,8))\n",
    "plt.subplot(131)\n",
    "plt.imshow(f, cmap=\"gray\")\n",
    "\n",
    "plt.subplot(132)\n",
    "plt.imshow(h, cmap=\"gray\")\n",
    "\n",
    "plt.subplot(133)\n",
    "plt.imshow(fhat, cmap=\"gray\")"
   ]
  },
  {
   "cell_type": "markdown",
   "metadata": {},
   "source": [
    "### Question 3\n",
    "Yes somewhat, the quality of the text is improved"
   ]
  },
  {
   "cell_type": "code",
   "execution_count": null,
   "metadata": {},
   "outputs": [],
   "source": [
    "h1 = np.ones(1)\n",
    "snr_1 = 10\n",
    "snr_2 = 5\n",
    "rho = 0.8\n",
    "r = 1.0\n",
    "\n",
    "h_1, fhat_1 = wiener(f, h1, snr_1, rho, r)\n",
    "h_2, fhat_2 = wiener(f, h1, snr_2, rho, r)\n",
    "\n",
    "plt.figure(figsize=(12,12))\n",
    "plt.subplot(321)\n",
    "plt.imshow(f, cmap=\"gray\")\n",
    "\n",
    "plt.subplot(323)\n",
    "plt.imshow(h_1, cmap=\"gray\")\n",
    "plt.title(\"snr = 10\")\n",
    "\n",
    "plt.subplot(324)\n",
    "plt.imshow(fhat_1, cmap=\"gray\")\n",
    "\n",
    "plt.subplot(325)\n",
    "plt.imshow(h_2, cmap=\"gray\")\n",
    "plt.title(\"snr = 5\")\n",
    "\n",
    "plt.subplot(326)\n",
    "plt.imshow(fhat_2, cmap=\"gray\")"
   ]
  },
  {
   "cell_type": "markdown",
   "metadata": {},
   "source": [
    "### Question 4\n",
    "The text becomes more blurred, but the background noise is slightly smoothed out."
   ]
  },
  {
   "cell_type": "code",
   "execution_count": null,
   "metadata": {},
   "outputs": [],
   "source": [
    "h2 = np.ones((7,7))/49\n",
    "h3 = np.ones((11,11))/121\n",
    "snr = 40\n",
    "rho = 0.8\n",
    "r = 1.0\n",
    "\n",
    "h_2, fhat_2 = wiener(f, h2, snr, rho, r)\n",
    "h_3, fhat_3 = wiener(f, h3, snr, rho, r)\n",
    "\n",
    "plt.figure(figsize=(12,12))\n",
    "plt.subplot(321)\n",
    "plt.imshow(f, cmap=\"gray\")\n",
    "\n",
    "plt.subplot(323)\n",
    "plt.imshow(h_2, cmap=\"gray\")\n",
    "plt.title(\"h2 = ones(7,7)/49\")\n",
    "\n",
    "plt.subplot(324)\n",
    "plt.imshow(fhat_2, cmap=\"gray\")\n",
    "\n",
    "plt.subplot(325)\n",
    "plt.imshow(h_3, cmap=\"gray\")\n",
    "plt.title(\"h3 = ones(11,11)/121\")\n",
    "\n",
    "plt.subplot(326)\n",
    "plt.imshow(fhat_3, cmap=\"gray\")"
   ]
  },
  {
   "cell_type": "markdown",
   "metadata": {},
   "source": [
    "### Question 5\n",
    "The result is really good, you completely reconstruct the text. Background still a bit noisy."
   ]
  },
  {
   "cell_type": "code",
   "execution_count": null,
   "metadata": {},
   "outputs": [],
   "source": [
    "h3 = np.ones((11,11))/121\n",
    "snr = 40\n",
    "rho = 0.8\n",
    "r_1 = 0.1\n",
    "r_2 = 0\n",
    "\n",
    "\n",
    "h_3_1, fhat_3_1 = wiener(f, h3, snr, rho, r_1)\n",
    "h_3_2, fhat_3_2 = wiener(f, h3, snr, rho, r_2)\n",
    "\n",
    "plt.figure(figsize=(12,12))\n",
    "plt.subplot(321)\n",
    "plt.imshow(f, cmap=\"gray\")\n",
    "\n",
    "plt.subplot(323)\n",
    "plt.imshow(h_3_1, cmap=\"gray\")\n",
    "plt.title(\"h3 = ones(11,11)/121, r = 0.1\")\n",
    "\n",
    "plt.subplot(324)\n",
    "plt.imshow(fhat_3_1, cmap=\"gray\")\n",
    "\n",
    "plt.subplot(325)\n",
    "plt.imshow(h_3_2, cmap=\"gray\")\n",
    "plt.title(\"h3 = ones(11,11)/121, r = 0\")\n",
    "\n",
    "plt.subplot(326)\n",
    "plt.imshow(fhat_3_2, cmap=\"gray\")"
   ]
  },
  {
   "cell_type": "markdown",
   "metadata": {},
   "source": [
    "### Question 6\n",
    "* $r=0.1$ leads to good result\n",
    "* $r=0$ leads to no guess of noise"
   ]
  },
  {
   "cell_type": "code",
   "execution_count": null,
   "metadata": {},
   "outputs": [],
   "source": [
    "h3 = np.ones((11,11))/121\n",
    "snr_1 = 15\n",
    "snr_2 = 8\n",
    "rho = 0.8\n",
    "r_1 = 1\n",
    "\n",
    "\n",
    "h_3_1, fhat_3_1 = wiener(f, h3, snr_1, rho, r_1)\n",
    "h_3_2, fhat_3_2 = wiener(f, h3, snr_2, rho, r_1)\n",
    "\n",
    "plt.figure(figsize=(12,12))\n",
    "plt.subplot(321)\n",
    "plt.imshow(f, cmap=\"gray\")\n",
    "\n",
    "plt.subplot(323)\n",
    "plt.imshow(h_3_1, cmap=\"gray\")\n",
    "plt.title(\"h3 = ones(11,11)/121, r = 1, snr = 15\")\n",
    "\n",
    "plt.subplot(324)\n",
    "plt.imshow(fhat_3_1, cmap=\"gray\")\n",
    "\n",
    "plt.subplot(325)\n",
    "plt.imshow(h_3_2, cmap=\"gray\")\n",
    "plt.title(\"h3 = ones(11,11)/121, r = 1, snr = 8\")\n",
    "\n",
    "plt.subplot(326)\n",
    "plt.imshow(fhat_3_2, cmap=\"gray\")"
   ]
  },
  {
   "cell_type": "markdown",
   "metadata": {},
   "source": [
    "### Question 7\n",
    "* $SNR = 15$ leads to barely visible numbers\n",
    "* $SNR = 8$ leads to barely visible text"
   ]
  },
  {
   "cell_type": "code",
   "execution_count": null,
   "metadata": {},
   "outputs": [],
   "source": [
    "h3 = np.ones((11,11))/121\n",
    "snr = 8\n",
    "rho = 0.8\n",
    "r_start = 0.1\n",
    "r_end = 1\n",
    "\n",
    "\n",
    "plt.figure(figsize=(12,60))\n",
    "for r_i in range(10):\n",
    "    h, fhat = wiener(f, h3, snr, rho, r_start + r_i/10)\n",
    "    plt.subplot(10, 2, 2*r_i+1)\n",
    "    plt.imshow(h, cmap=\"gray\")\n",
    "    plt.title(\"h3 = ones(11,11)/121, r = \" + str(r_start + r_i/10) + \", snr = 15\")\n",
    "    plt.subplot(10, 2, 2*r_i+2)\n",
    "    plt.imshow(fhat, cmap=\"gray\")"
   ]
  },
  {
   "cell_type": "markdown",
   "metadata": {},
   "source": [
    "### Question 8\n",
    "It seems like the image quality becomes worse with higher r.\n",
    "Even though that might be mathimatically correct.\n",
    "\n",
    "The human might be able to interpret the image better when you do not account for noise. If you only try to fix the degraded image using inverse filtering, the brain might fix the noise on its own."
   ]
  },
  {
   "cell_type": "code",
   "execution_count": null,
   "metadata": {},
   "outputs": [],
   "source": [
    "h_blur = np.array(((0,0,0,0,0,0,0,0,0,0,0,0,0,0,1,1,1,1,1,1,1,1,1,1,1,1,1,1,1)))/15\n",
    "print(h_blur)"
   ]
  },
  {
   "cell_type": "markdown",
   "metadata": {},
   "source": [
    "### Question 9\n",
    "See above\n",
    "\"Long filter\" but not \"tall\". All values are at one side of the center."
   ]
  },
  {
   "cell_type": "code",
   "execution_count": null,
   "metadata": {},
   "outputs": [],
   "source": [
    "snr_1 = 40\n",
    "snr_2 = 5\n",
    "\n",
    "rho = 0.8\n",
    "r_1 = 1.0\n",
    "r_2 = 0.5\n",
    "\n",
    "h_1_1, fhat_1_1 = wiener(f, h_blur, snr_1, rho, r_1)\n",
    "h_2_1, fhat_2_1 = wiener(f, h_blur, snr_2, rho, r_1)\n",
    "h_1_2, fhat_1_2 = wiener(f, h_blur, snr_1, rho, r_2)\n",
    "h_2_2, fhat_2_2 = wiener(f, h_blur, snr_2, rho, r_2)\n",
    "\n",
    "plt.figure(figsize=(16,40))\n",
    "plt.subplot(521)\n",
    "plt.imshow(f, cmap=\"gray\")\n",
    "\n",
    "plt.subplot(523)\n",
    "plt.imshow(h_1_1, cmap=\"gray\")\n",
    "plt.title(\"snr = 40, r = 1\")\n",
    "\n",
    "plt.subplot(524)\n",
    "plt.imshow(fhat_1_1, cmap=\"gray\")\n",
    "\n",
    "plt.subplot(525)\n",
    "plt.imshow(h_2_1, cmap=\"gray\")\n",
    "plt.title(\"snr = 5, r = 1\")\n",
    "\n",
    "\n",
    "plt.subplot(526)\n",
    "plt.imshow(fhat_2_1, cmap=\"gray\")\n",
    "\n",
    "plt.subplot(527)\n",
    "plt.imshow(h_1_2, cmap=\"gray\")\n",
    "plt.title(\"snr = 40, r = 0.5\")\n",
    "\n",
    "plt.subplot(528)\n",
    "plt.imshow(fhat_1_2, cmap=\"gray\")\n",
    "\n",
    "plt.subplot(529)\n",
    "plt.imshow(h_2_2, cmap=\"gray\")\n",
    "plt.title(\"snr = 5, r = 0.5\")\n",
    "\n",
    "plt.subplot(5,2,10)\n",
    "plt.imshow(fhat_2_2, cmap=\"gray\")"
   ]
  },
  {
   "cell_type": "markdown",
   "metadata": {},
   "source": [
    "The reconstructed filter looks really good. Almost like there is no degredation at all.\n",
    "With low SNR the result is worse but the text is still readable."
   ]
  },
  {
   "cell_type": "markdown",
   "metadata": {},
   "source": [
    "### Question 10\n",
    "\n",
    "## $\\rho_x$:\n",
    "$r_{f}(1,0) = \\sigma_{f}^{2} \\cdot \\rho^{\\sqrt{1^{2}+0^{2}}} = \\sigma_{f}^{2} \\cdot \\rho^{1} = \\sigma_{f}^{2} \\cdot \\rho$\n",
    "\n",
    "$r_{f}(0,0) = \\sigma_{f}^{2} \\cdot \\rho^{\\sqrt{0^{2}+0^{2}}} = \\sigma_{f}^{2} \\cdot \\rho^{0} = \\sigma_{f}^{2} \\cdot 1 = \\sigma_{f}^{2}$\n",
    "\n",
    "$\\implies \\rho_{x} = \\frac{r_{f}(1,0)}{r_{f}(0,0)} = \\frac{\\sigma_{f}^{2} \\cdot \\rho}{\\sigma_{f}^{2}} = \\rho$\n",
    "\n",
    "## $\\rho_y$:\n",
    "$r_{f}(0,1) = \\sigma_{f}^{2} \\cdot \\rho^{\\sqrt{0^{2}+1^{2}}} = \\sigma_{f}^{2} \\cdot \\rho^{1} = \\sigma_{f}^{2} \\cdot \\rho$\n",
    "\n",
    "$\\implies \\rho_{y} = \\frac{r_{f}(0,1)}{r_{f}(0,0)} = \\frac{\\sigma_{f}^{2} \\cdot \\rho}{\\sigma_{f}^{2}} = \\rho$\n",
    "\n",
    "## $\\rho$:\n",
    "$\\rho = \\frac{\\rho_{x} + \\rho_{y}}{2} = \\frac{\\rho + \\rho}{2} = \\frac{2\\rho}{2} = \\rho$"
   ]
  },
  {
   "cell_type": "code",
   "execution_count": null,
   "metadata": {},
   "outputs": [],
   "source": [
    "def autocorr(im):\n",
    "    f_hat = np.mean(im)\n",
    "    f_im = np.fft.ifftshift(np.fft.fft2(np.fft.fftshift(im-f_hat)))\n",
    "    f = f_im.conj() * f_im\n",
    "    return np.fft.ifftshift(np.fft.ifft2(np.fft.fftshift(f)))\n",
    "\n",
    "def rho(f):\n",
    "    return (f[1,0]/f[0,0]+f[0,1]/f[0,0])/2"
   ]
  },
  {
   "cell_type": "code",
   "execution_count": null,
   "metadata": {},
   "outputs": [],
   "source": [
    "acorr_s = autocorr(f)\n",
    "corr_s = (acorr_s.real+acorr_s.imag).astype(np.int64)\n",
    "plt.figure(figsize=(16,8))\n",
    "plt.subplot(131)\n",
    "plt.imshow(corr_s, cmap=\"gray\")\n",
    "plt.title(\"autocorrelation of skylt\")\n",
    "\n",
    "foppa = np.array(Im.open(\"lab7files/foppa.tif\"))\n",
    "acorr_f = autocorr(foppa)\n",
    "corr_f = (acorr_f.real+acorr_f.imag).astype(np.int64)\n",
    "plt.subplot(132)\n",
    "plt.imshow(corr_f, cmap=\"gray\")\n",
    "plt.title(\"autocorrelation of foppa\")\n",
    "\n",
    "baboon = np.array(Im.open(\"lab7files/baboon256.tif\"))\n",
    "acorr_b = autocorr(baboon)\n",
    "corr_b = (acorr_b.real+acorr_b.imag).astype(np.int64)\n",
    "plt.subplot(133)\n",
    "plt.imshow(corr_b, cmap=\"gray\")\n",
    "plt.title(\"autocorrelation of baboon\")\n",
    "\n",
    "plt.figure(figsize=(16,8))\n",
    "plt.subplot(131)\n",
    "plt.imshow(f, cmap=\"gray\")\n",
    "\n",
    "plt.subplot(132)\n",
    "plt.imshow(foppa, cmap=\"gray\")\n",
    "\n",
    "plt.subplot(133)\n",
    "plt.imshow(baboon, cmap=\"gray\")\n",
    "\n",
    "plt.show()"
   ]
  },
  {
   "cell_type": "markdown",
   "metadata": {},
   "source": [
    "### Question 11\n",
    "At least Foppa looks similar to the sketch. The others look like the sketches at least in the middle.\n",
    "\n",
    "One reason for bad orders can be because of convolution outside of bounds.\n",
    "\n",
    "### Question 12\n",
    "See below"
   ]
  },
  {
   "cell_type": "code",
   "execution_count": null,
   "metadata": {},
   "outputs": [],
   "source": [
    "print(f\"rho for the image skylt is: {rho(np.fft.fftshift(corr_s))}\")\n",
    "print(f\"rho for the image foppa is: {rho(np.fft.fftshift(corr_f))}\")\n",
    "print(f\"rho for the image baboon is: {rho(np.fft.fftshift(corr_b))}\")\n"
   ]
  },
  {
   "cell_type": "markdown",
   "metadata": {},
   "source": [
    "# 2 Edge detection with Canny"
   ]
  },
  {
   "cell_type": "code",
   "execution_count": null,
   "metadata": {},
   "outputs": [],
   "source": [
    "hus = np.array(Im.open(\"lab7files/hus.tif\"))\n",
    "\n",
    "fig, ((ax1, ax2), (ax3, ax4)) = plt.subplots(2, 2, figsize=(9,9))\n",
    "\n",
    "sobelx = np.array([[1, 0, -1], [2, 0, -2], [1, 0, -1]])/8;\n",
    "Imsobelx = eng.conv2(hus, sobelx, 'same');\n",
    "sobely = sobelx.T;\n",
    "Imsobely = eng.conv2(hus, sobely, 'same');\n",
    "Imgrad = np.sqrt(np.power(Imsobelx,2)+np.power(Imsobely,2));\n",
    "maxv = np.max(Imgrad);\n",
    "binvect = np.arange(0,maxv, maxv//100);\n",
    "histo = np.histogram(Imgrad, binvect);\n",
    "\n",
    "T=22;\n",
    "ImgradT = Imgrad>T;\n",
    "\n",
    "ax1.imshow(hus, cmap='grey')\n",
    "ax1.set_title(\"original\")\n",
    "\n",
    "ax2.imshow(Imgrad, cmap='grey')\n",
    "ax2.set_title(\"magngrad\")\n",
    "\n",
    "ax3.plot(histo[0])\n",
    "ax3.set_title(\"histogram\")\n",
    "\n",
    "ax4.imshow(ImgradT, cmap='grey')\n",
    "ax4.set_title(\"Tresholded\")\n",
    "plt.show()"
   ]
  },
  {
   "cell_type": "code",
   "execution_count": null,
   "metadata": {},
   "outputs": [],
   "source": [
    "fig, ax = plt.subplots(figsize=(8,8))\n",
    "\n",
    "Imskel = eng.bwmorph(ImgradT, 'skel', np.inf);\n",
    "\n",
    "ax.imshow(Imskel, cmap='grey')\n",
    "ax.set_title(f\"Skeleton with T={T}\")\n",
    "plt.show()"
   ]
  },
  {
   "cell_type": "markdown",
   "metadata": {},
   "source": [
    "### Question 13\n",
    "No, too low threshold ~22 removes the chimney's right part but keeps some part sticking up while too high threshold keeps to much of the tiles.\n",
    "Even with T=22 we still have many tiles\n",
    "\n",
    "### Question 14\n",
    "We chose T=22\n",
    "Keeps part of chimney while minimizing tiles"
   ]
  },
  {
   "cell_type": "markdown",
   "metadata": {},
   "source": [
    "## Canny\n",
    "### Question 15\n",
    "By \"traversing\" the edge we get more precise max values instead of also getting other values by thresholding.\n",
    "By looking at the edge normal, we introduce another requirement and therefore select less values.\n",
    "\n",
    "### Question 16\n",
    "The hysteresis is important in the canny algorithm as it make sure that your edge segments are continuous, since it reduces the amount of unconnected edges.\n",
    "Another benefit is that is helps filtering out potential false positives by only allowing the pixels that are between the low and high threshold to be treated as part of an edge if they are adjacent to pixels that have been marked as strong edges (above high threshold or (recursively) neighboring pixels)"
   ]
  },
  {
   "cell_type": "code",
   "execution_count": null,
   "metadata": {},
   "outputs": [],
   "source": [
    "fig, ax = plt.subplots(figsize=(8,8))\n",
    "\n",
    "[cannyim, T_aut] = eng.edge(hus, \"canny\", nargout=2);\n",
    "\n",
    "ax.imshow(cannyim, cmap='grey')\n",
    "ax.set_title(\"Canny\")\n",
    "plt.show()"
   ]
  },
  {
   "cell_type": "code",
   "execution_count": null,
   "metadata": {},
   "outputs": [],
   "source": [
    "print(f\"Threshold 1: {T_aut[0][0]}, Threshold 2: {T_aut[0][1]}\")"
   ]
  },
  {
   "cell_type": "markdown",
   "metadata": {},
   "source": [
    "### Question 17\n",
    "As seen above, it selects\n",
    "0.01875 and\n",
    "0.046875"
   ]
  },
  {
   "cell_type": "code",
   "execution_count": null,
   "metadata": {},
   "outputs": [],
   "source": [
    "fig, ax = plt.subplots(figsize=(8,8))\n",
    "\n",
    "T = 0.25\n",
    "[cannyim2, T_aut] = eng.edge(hus, \"canny\", matlab.double([0.4*T, T]), nargout=2);\n",
    "\n",
    "ax.imshow(cannyim2) \n",
    "ax.set_title(f\"Canny with T={T}\")\n",
    "plt.show()"
   ]
  },
  {
   "cell_type": "markdown",
   "metadata": {},
   "source": [
    "### Question 18\n",
    "We select T=0.25\n",
    "see matlab image"
   ]
  },
  {
   "cell_type": "code",
   "execution_count": null,
   "metadata": {},
   "outputs": [],
   "source": [
    "fig, ax = plt.subplots(figsize=(1,1))\n",
    "\n",
    "T = 0.25\n",
    "[cannyim2, T_aut] = eng.edge(hus, \"canny\", matlab.double([0.4*T, T]), nargout=2);\n",
    "\n",
    "ax.imshow(cannyim2)\n",
    "ax.set_title(f\"Canny with T={T}, smaller\")\n",
    "plt.show()"
   ]
  },
  {
   "cell_type": "markdown",
   "metadata": {},
   "source": [
    "### Question 19\n",
    "This is since the width of the edge lines are 1 pixel, meaning when we scale down the image below it's original resolution, we will have missing data due to downscaling algorithms\n",
    "\n",
    "This issue is actually not really present in the python version, probably because they are using a different algorithm for scaling images, here is a screenshot from the same image in matlab scaled down:\n",
    "\n",
    "![Question 19 image](images/tsbb19.png \"Question 19\")"
   ]
  },
  {
   "cell_type": "markdown",
   "metadata": {},
   "source": [
    "# 3 The Hough transform"
   ]
  },
  {
   "cell_type": "markdown",
   "metadata": {},
   "source": [
    "### Question 20\n",
    "![Question 20 sketch](images/tsbb20.png \"Question 20\")\n",
    "We manually computed the position (theta, rho) in the hough plot at the theta=-90, -45, 0, 45 and 90 positions. This gave us the parabola (actually sinusoidal) line."
   ]
  },
  {
   "cell_type": "markdown",
   "metadata": {},
   "source": [
    "### Question 21\n",
    "![Question 21 sketch](images/tsbb21.png \"Question 21\")\n",
    "\n",
    "Since we only have one point, this will draw each possible line found in the hough transform. Each line is \"equally possible\" through one singular point."
   ]
  },
  {
   "cell_type": "markdown",
   "metadata": {},
   "source": [
    "### DEMO E"
   ]
  },
  {
   "cell_type": "code",
   "execution_count": null,
   "metadata": {},
   "outputs": [],
   "source": [
    "fig, ((ax1, ax2), (ax3, ax4)) = plt.subplots(2, 2, figsize=(12,12))\n",
    "\n",
    "im = np.zeros((64,64)); im[0,0] = 1;\n",
    "im[15,15] = 1;\n",
    "im[31,31] = 1;\n",
    "im[47,47] = 1;\n",
    "im[63,63] = 1;\n",
    "ax1.imshow(im, origin='lower')\n",
    "ax1.set_title(\"original\")\n",
    "\n",
    "[H, T, R] = eng.hough(im, 'Theta', matlab.double(np.arange(-90,90).tolist()), nargout=3)\n",
    "ax2.imshow(H, extent=[-90, 90, 90, -90])\n",
    "ax2.set_title(\"Hough transform\")\n",
    "\n",
    "\n",
    "P = eng.houghpeaks(H, matlab.double(10),'threshold', np.ceil(0.5*np.max(H)))\n",
    "x = T[0][int(P[0][1])-1]\n",
    "y = R[0][int(P[0][0])-1]\n",
    "ax2.plot(x, y, marker='s', linestyle='-', markerfacecolor='none', color='red')\n",
    "\n",
    "ax3.imshow(im, origin='lower')\n",
    "lines = eng.houghlines(np.ones((64, 64)),T,R,P)\n",
    "xp = (lines['point1'][0][0]-1, lines['point2'][0][0]-1)\n",
    "yp = (lines['point1'][0][1]-1, lines['point2'][0][1]-1)\n",
    "ax3.plot(xp, yp, linestyle='-', color='lime')\n",
    "ax3.set_title(\"Hough Line\")\n",
    "plt.show()"
   ]
  },
  {
   "cell_type": "markdown",
   "metadata": {},
   "source": [
    "### Question 22\n",
    "Since all dots are in a straight line, in the Hough-curve, we get exactly one point where the lines for each dot intersects, which corresponds to the line that crosses all dots"
   ]
  },
  {
   "cell_type": "markdown",
   "metadata": {},
   "source": [
    "### DEMO F"
   ]
  },
  {
   "cell_type": "code",
   "execution_count": null,
   "metadata": {},
   "outputs": [],
   "source": [
    "fig, ((ax1, ax2), (ax3, ax4)) = plt.subplots(2, 2, figsize=(12,12))\n",
    "\n",
    "im = np.array(Im.open(\"lab7files/polyg.tif\"))\n",
    "ax1.imshow(im, origin='lower')\n",
    "ax1.set_title(\"Original\")\n",
    "\n",
    "#Canny\n",
    "T = 0.45\n",
    "[cannyim, T_aut] = eng.edge(im, \"canny\", matlab.double([0.4*T, T]), nargout=2);\n",
    "ax2.imshow(cannyim, origin='lower')\n",
    "ax2.set_title(\"Canny\")\n",
    "\n",
    "[H, T, R] = eng.hough(cannyim, 'Theta', matlab.double(np.arange(-90,90).tolist()), nargout=3)\n",
    "ax3.imshow(H, extent=[-90, 90, 361, -361], aspect='auto')\n",
    "ax3.set_title(\"Hough transform\")\n",
    "\n",
    "\n",
    "P = eng.houghpeaks(H, matlab.double(4),'threshold', np.ceil(0.5*np.max(H)))\n",
    "for peak in P:\n",
    "    x = T[0][int(peak[1])-1]\n",
    "    y = R[0][int(peak[0])-1]\n",
    "    ax3.plot(x, y, marker='s', linestyle='-', markerfacecolor='none', color='red')\n",
    "\n",
    "ax4.imshow(im, origin='lower')\n",
    "# pythons matlabengine cannot return the value of houghlines if you have more than one line, so we ran it in\n",
    "# matlab and pasted the xy values\n",
    "#   point1: [165 1]\n",
    "#   point2: [210 256]\n",
    "#    theta: -10\n",
    "#      rho: 162\n",
    "\n",
    "#   point1: [1 168]\n",
    "#   point2: [256 208]\n",
    "#    theta: -81\n",
    "#      rho: -165\n",
    "\n",
    "#   point1: [88 1]\n",
    "#   point2: [24 256]\n",
    "#    theta: 14\n",
    "#      rho: 84\n",
    "\n",
    "#   point1: [1 69]\n",
    "#   point2: [256 20]\n",
    "#    theta: 79\n",
    "#      rho: 67\n",
    "#lines = eng.houghlines(np.ones((256, 256)),T,R,P)\n",
    "lines = [[[165, 209], [0, 255]], [[0, 255], [167, 207]], [[87, 23], [0,255]], [[0, 255], [68, 19]]]\n",
    "for line in lines:\n",
    "    xp = line[0]\n",
    "    yp = line[1]\n",
    "    ax4.plot(xp, yp, linestyle='-', color='lime')\n",
    "ax4.set_title(\"Hough lines\")\n",
    "plt.show()"
   ]
  },
  {
   "cell_type": "markdown",
   "metadata": {},
   "source": [
    "### DEMO G"
   ]
  },
  {
   "cell_type": "code",
   "execution_count": null,
   "metadata": {},
   "outputs": [],
   "source": [
    "fig, ((ax1, ax2, ax3), (ax4, ax5, ax6)) = plt.subplots(2, 3, figsize=(12,9))\n",
    "\n",
    "im = np.array(Im.open(\"lab7files/polyg.tif\"))\n",
    "ax1.imshow(im, origin='lower')\n",
    "ax1.set_title(\"Original\")\n",
    "\n",
    "#Canny\n",
    "T = 0.45\n",
    "[cannyim, T_aut] = eng.edge(im, \"canny\", matlab.double([0.4*T, T]), nargout=2);\n",
    "ax2.imshow(cannyim, origin='lower')\n",
    "ax2.set_title(\"Canny\")\n",
    "\n",
    "se = eng.strel('disk', matlab.double(2));\n",
    "into_hough = eng.imdilate(cannyim,se)\n",
    "ax3.imshow(into_hough, origin='lower')\n",
    "ax3.set_title(\"Dilated canny\")\n",
    "\n",
    "[H, T, R] = eng.hough(cannyim, 'Theta', matlab.double(np.arange(-90,90).tolist()), nargout=3)\n",
    "ax4.imshow(H, extent=[-90, 90, 361, -361], aspect='auto')\n",
    "ax4.set_title(\"Hough transform\")\n",
    "\n",
    "\n",
    "P = eng.houghpeaks(H, matlab.double(4),'threshold', np.ceil(0.5*np.max(H)))\n",
    "for peak in P:\n",
    "    x = T[0][int(peak[1])-1]\n",
    "    y = R[0][int(peak[0])-1]\n",
    "    ax4.plot(x, y, marker='s', linestyle='-', markerfacecolor='none', color='red')\n",
    "\n",
    "\n",
    "# pythons matlabengine cannot return the value of houghlines if you have more than one line, so we ran it in\n",
    "# matlab and pasted the xy values\n",
    "#   point1: [171 35]\n",
    "#   point2: [200 199]\n",
    "#    theta: -10\n",
    "#      rho: 162\n",
    "\n",
    "#   point1: [44 175]\n",
    "#   point2: [199 199]\n",
    "#    theta: -81\n",
    "#      rho: -165\n",
    "\n",
    "#   point1: [75 53]\n",
    "#   point2: [44 175]\n",
    "#    theta: 14\n",
    "#      rho: 84\n",
    "\n",
    "#   point1: [73 55]\n",
    "#   point2: [173 36]\n",
    "#    theta: 79\n",
    "#      rho: 67\n",
    "# lines = houghlines(into_hough,T,R,P,\"FillGap\",40,\"MinLength\",40);\n",
    "ax5.imshow(im, origin='lower')\n",
    "lines = [[[171, 199], [35, 198]], [[43, 198], [174, 198]], [[74, 43], [52, 174]], [[72, 172], [54, 35]]]\n",
    "for line in lines:\n",
    "    xp = line[0]\n",
    "    yp = line[1]\n",
    "    ax5.plot(xp, yp, linestyle='-', color='lime')\n",
    "ax5.set_title(\"Hough lines\")\n",
    "plt.show()"
   ]
  },
  {
   "cell_type": "code",
   "execution_count": null,
   "metadata": {},
   "outputs": [],
   "source": []
  }
 ],
 "metadata": {
  "kernelspec": {
   "display_name": "Python 3",
   "language": "python",
   "name": "python3"
  },
  "language_info": {
   "codemirror_mode": {
    "name": "ipython",
    "version": 3
   },
   "file_extension": ".py",
   "mimetype": "text/x-python",
   "name": "python",
   "nbconvert_exporter": "python",
   "pygments_lexer": "ipython3",
   "version": "3.6.9"
  }
 },
 "nbformat": 4,
 "nbformat_minor": 4
}
